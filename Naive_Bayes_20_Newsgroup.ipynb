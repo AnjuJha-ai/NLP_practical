{
 "cells": [
  {
   "cell_type": "code",
   "execution_count": 1,
   "id": "fd49735e",
   "metadata": {},
   "outputs": [],
   "source": [
    "import numpy as np\n",
    "import pandas as pd\n",
    "from sklearn.datasets import fetch_20newsgroups\n",
    "from sklearn.feature_extraction.text import CountVectorizer, TfidfTransformer\n",
    "from sklearn.naive_bayes import MultinomialNB\n",
    "from sklearn.pipeline import Pipeline\n",
    "from sklearn.model_selection import train_test_split\n",
    "from sklearn.metrics import precision_score, recall_score, f1_score, classification_report\n",
    "from nltk.corpus import stopwords\n",
    "from nltk.stem import SnowballStemmer\n",
    "from nltk.tokenize import word_tokenize\n",
    "import nltk"
   ]
  },
  {
   "cell_type": "code",
   "execution_count": 2,
   "id": "97ee32ed",
   "metadata": {},
   "outputs": [
    {
     "name": "stderr",
     "output_type": "stream",
     "text": [
      "[nltk_data] Downloading package punkt to\n",
      "[nltk_data]     C:\\Users\\22anj\\AppData\\Roaming\\nltk_data...\n",
      "[nltk_data]   Package punkt is already up-to-date!\n",
      "[nltk_data] Downloading package stopwords to\n",
      "[nltk_data]     C:\\Users\\22anj\\AppData\\Roaming\\nltk_data...\n",
      "[nltk_data]   Package stopwords is already up-to-date!\n"
     ]
    },
    {
     "name": "stdout",
     "output_type": "stream",
     "text": [
      "Precision: 0.8795\n",
      "Recall: 0.8569\n",
      "F1-Score: 0.8505\n",
      "\n",
      "Classification Report:\n",
      "\n",
      "                          precision    recall  f1-score   support\n",
      "\n",
      "             alt.atheism       0.87      0.73      0.79       236\n",
      "           comp.graphics       0.82      0.83      0.82       287\n",
      " comp.os.ms-windows.misc       0.85      0.83      0.84       290\n",
      "comp.sys.ibm.pc.hardware       0.63      0.86      0.72       285\n",
      "   comp.sys.mac.hardware       0.93      0.84      0.88       312\n",
      "          comp.windows.x       0.96      0.83      0.89       308\n",
      "            misc.forsale       0.92      0.70      0.79       276\n",
      "               rec.autos       0.93      0.93      0.93       304\n",
      "         rec.motorcycles       0.94      0.96      0.95       279\n",
      "      rec.sport.baseball       0.97      0.97      0.97       308\n",
      "        rec.sport.hockey       0.95      0.98      0.97       309\n",
      "               sci.crypt       0.81      0.98      0.88       290\n",
      "         sci.electronics       0.91      0.80      0.85       304\n",
      "                 sci.med       0.98      0.90      0.94       300\n",
      "               sci.space       0.93      0.97      0.95       297\n",
      "  soc.religion.christian       0.59      0.99      0.74       292\n",
      "      talk.politics.guns       0.76      0.97      0.85       270\n",
      "   talk.politics.mideast       0.91      0.98      0.94       272\n",
      "      talk.politics.misc       0.99      0.63      0.77       239\n",
      "      talk.religion.misc       0.97      0.17      0.29       196\n",
      "\n",
      "                accuracy                           0.86      5654\n",
      "               macro avg       0.88      0.84      0.84      5654\n",
      "            weighted avg       0.88      0.86      0.85      5654\n",
      "\n"
     ]
    }
   ],
   "source": [
    "\n",
    "# Download requirement\n",
    "nltk.download('punkt')\n",
    "nltk.download('stopwords')\n",
    "\n",
    "# Load the dataset\n",
    "newsgroups = fetch_20newsgroups(subset='all', shuffle=True, random_state=42)\n",
    "X, y = newsgroups.data, newsgroups.target\n",
    "\n",
    "# stop words and stemmer\n",
    "stop_words = set(stopwords.words('english'))\n",
    "stemmer = SnowballStemmer('english')\n",
    "\n",
    "# Preprocess text: tokenization, stopword removal, stemming\n",
    "def preprocess(text):\n",
    "    tokens = word_tokenize(text)\n",
    "    tokens = [stemmer.stem(word) for word in tokens if word.isalpha() and word not in stop_words]\n",
    "    return ' '.join(tokens)\n",
    "\n",
    "X_preprocessed = [preprocess(text) for text in X]\n",
    "\n",
    "# Split the dataset \n",
    "X_train, X_test, y_train, y_test = train_test_split(X_preprocessed, y, test_size=0.3, random_state=42)\n",
    "\n",
    "# pipeline with text preprocessing and Naive Bayes classifier\n",
    "text_clf = Pipeline([\n",
    "    ('vect', CountVectorizer()),\n",
    "    ('tfidf', TfidfTransformer()),\n",
    "    ('clf', MultinomialNB()),\n",
    "])\n",
    "\n",
    "# Train the classifier\n",
    "text_clf.fit(X_train, y_train)\n",
    "\n",
    "# Predict the labels for the test set\n",
    "y_pred = text_clf.predict(X_test)\n",
    "\n",
    "# Evaluate the model\n",
    "precision = precision_score(y_test, y_pred, average='weighted')\n",
    "recall = recall_score(y_test, y_pred, average='weighted')\n",
    "f1 = f1_score(y_test, y_pred, average='weighted')\n",
    "\n",
    "print(f'Precision: {precision:.4f}')\n",
    "print(f'Recall: {recall:.4f}')\n",
    "print(f'F1-Score: {f1:.4f}')\n",
    "print('\\nClassification Report:\\n')\n",
    "print(classification_report(y_test, y_pred, target_names=newsgroups.target_names))\n"
   ]
  },
  {
   "cell_type": "code",
   "execution_count": null,
   "id": "d3aae170",
   "metadata": {},
   "outputs": [],
   "source": []
  }
 ],
 "metadata": {
  "kernelspec": {
   "display_name": "Python 3 (ipykernel)",
   "language": "python",
   "name": "python3"
  },
  "language_info": {
   "codemirror_mode": {
    "name": "ipython",
    "version": 3
   },
   "file_extension": ".py",
   "mimetype": "text/x-python",
   "name": "python",
   "nbconvert_exporter": "python",
   "pygments_lexer": "ipython3",
   "version": "3.11.4"
  }
 },
 "nbformat": 4,
 "nbformat_minor": 5
}
