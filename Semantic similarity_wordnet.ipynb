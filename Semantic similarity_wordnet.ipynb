{
 "cells": [
  {
   "cell_type": "code",
   "execution_count": 1,
   "id": "63fa3a6a",
   "metadata": {},
   "outputs": [
    {
     "name": "stderr",
     "output_type": "stream",
     "text": [
      "[nltk_data] Downloading package wordnet to\n",
      "[nltk_data]     C:\\Users\\22anj\\AppData\\Roaming\\nltk_data...\n",
      "[nltk_data]   Package wordnet is already up-to-date!\n",
      "[nltk_data] Downloading package wordnet_ic to\n",
      "[nltk_data]     C:\\Users\\22anj\\AppData\\Roaming\\nltk_data...\n",
      "[nltk_data]   Package wordnet_ic is already up-to-date!\n",
      "[nltk_data] Downloading package omw-1.4 to\n",
      "[nltk_data]     C:\\Users\\22anj\\AppData\\Roaming\\nltk_data...\n"
     ]
    },
    {
     "name": "stdout",
     "output_type": "stream",
     "text": [
      "Results:\n",
      "               Word Pair  Human Score  Predicted Score\n",
      "0      (car, automobile)         3.92         1.000000\n",
      "1           (gem, jewel)         3.84         1.000000\n",
      "2      (journey, voyage)         3.84         0.500000\n",
      "3             (boy, lad)         3.76         0.500000\n",
      "4         (coast, shore)         3.70         0.500000\n",
      "5     (asylum, madhouse)         3.61         0.500000\n",
      "6     (magician, wizard)         3.50         1.000000\n",
      "7         (midday, noon)         3.42         1.000000\n",
      "8       (furnace, stove)         3.11         0.100000\n",
      "9          (food, fruit)         2.69         0.142857\n",
      "10          (bird, cock)         2.63         0.500000\n",
      "11         (bird, crane)         2.63         0.250000\n",
      "12     (tool, implement)         2.50         0.500000\n",
      "13       (brother, monk)         2.42         0.500000\n",
      "14        (lad, brother)         2.24         0.200000\n",
      "15    (crane, implement)         1.68         0.200000\n",
      "16        (journey, car)         1.16         0.083333\n",
      "17        (monk, oracle)         1.10         0.125000\n",
      "18  (cemetery, woodland)         0.90         0.111111\n",
      "19       (food, rooster)         0.89         0.062500\n",
      "Mean Squared Error: 5.6799\n"
     ]
    }
   ],
   "source": [
    "import nltk\n",
    "from nltk.corpus import wordnet as wn\n",
    "from nltk.corpus import wordnet_ic\n",
    "from itertools import product\n",
    "import pandas as pd\n",
    "from sklearn.metrics import mean_squared_error\n",
    "\n",
    "# Ensure the NLTK resources are downloaded\n",
    "nltk.download('wordnet')\n",
    "nltk.download('wordnet_ic')\n",
    "nltk.download('omw-1.4')\n",
    "\n",
    "# Example word pairs and human-annotated similarity scores\n",
    "word_pairs = [(\"car\", \"automobile\"), (\"gem\", \"jewel\"), (\"journey\", \"voyage\"),\n",
    "              (\"boy\", \"lad\"), (\"coast\", \"shore\"), (\"asylum\", \"madhouse\"),\n",
    "              (\"magician\", \"wizard\"), (\"midday\", \"noon\"), (\"furnace\", \"stove\"),\n",
    "              (\"food\", \"fruit\"), (\"bird\", \"cock\"), (\"bird\", \"crane\"),\n",
    "              (\"tool\", \"implement\"), (\"brother\", \"monk\"), (\"lad\", \"brother\"),\n",
    "              (\"crane\", \"implement\"), (\"journey\", \"car\"), (\"monk\", \"oracle\"),\n",
    "              (\"cemetery\", \"woodland\"), (\"food\", \"rooster\")]\n",
    "\n",
    "human_scores = [3.92, 3.84, 3.84, 3.76, 3.70, 3.61, 3.50, 3.42, 3.11,\n",
    "                2.69, 2.63, 2.63, 2.50, 2.42, 2.24, 1.68, 1.16, 1.10,\n",
    "                0.90, 0.89]\n",
    "\n",
    "# Information Content (IC) used for some similarity measures\n",
    "brown_ic = wordnet_ic.ic('ic-brown.dat')\n",
    "\n",
    "# Calculate similarity between word pairs\n",
    "def calculate_similarity(word1, word2):\n",
    "    synsets1 = wn.synsets(word1)\n",
    "    synsets2 = wn.synsets(word2)\n",
    "    \n",
    "    if synsets1 and synsets2:\n",
    "        # Get the maximum similarity value among all synset pairs\n",
    "        max_similarity = max((syn1.path_similarity(syn2) or 0) for syn1, syn2 in product(synsets1, synsets2))\n",
    "        return max_similarity\n",
    "    else:\n",
    "        return 0\n",
    "\n",
    "# Evaluate similarity measure using benchmark dataset\n",
    "def evaluate_similarity(word_pairs, human_scores):\n",
    "    predicted_scores = [calculate_similarity(pair[0], pair[1]) for pair in word_pairs]\n",
    "    mse = mean_squared_error(human_scores, predicted_scores)\n",
    "    return predicted_scores, mse\n",
    "\n",
    "# Calculate predicted scores and mean squared error\n",
    "predicted_scores, mse = evaluate_similarity(word_pairs, human_scores)\n",
    "\n",
    "# Display results\n",
    "results_df = pd.DataFrame({\n",
    "    'Word Pair': word_pairs,\n",
    "    'Human Score': human_scores,\n",
    "    'Predicted Score': predicted_scores\n",
    "})\n",
    "print(\"Results:\")\n",
    "print(results_df)\n",
    "print(f\"Mean Squared Error: {mse:.4f}\")\n"
   ]
  },
  {
   "cell_type": "code",
   "execution_count": null,
   "id": "e171f41b",
   "metadata": {},
   "outputs": [],
   "source": []
  }
 ],
 "metadata": {
  "kernelspec": {
   "display_name": "Python 3 (ipykernel)",
   "language": "python",
   "name": "python3"
  },
  "language_info": {
   "codemirror_mode": {
    "name": "ipython",
    "version": 3
   },
   "file_extension": ".py",
   "mimetype": "text/x-python",
   "name": "python",
   "nbconvert_exporter": "python",
   "pygments_lexer": "ipython3",
   "version": "3.11.4"
  }
 },
 "nbformat": 4,
 "nbformat_minor": 5
}
