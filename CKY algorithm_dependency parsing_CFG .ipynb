{
 "cells": [
  {
   "cell_type": "code",
   "execution_count": 1,
   "id": "12303d57",
   "metadata": {},
   "outputs": [],
   "source": [
    "import nltk\n",
    "from nltk import CFG\n",
    "from nltk.tree import Tree\n"
   ]
  },
  {
   "cell_type": "code",
   "execution_count": 4,
   "id": "47fe79ed",
   "metadata": {},
   "outputs": [
    {
     "name": "stdout",
     "output_type": "stream",
     "text": [
      "No valid parse tree found.\n"
     ]
    }
   ],
   "source": [
    "\n",
    "# Define a context-free grammar\n",
    "cfg_string = \"\"\"\n",
    "S -> NP VP\n",
    "VP -> V NP | V NP PP\n",
    "PP -> P NP\n",
    "V -> 'saw' | 'ate' | 'walked'\n",
    "NP -> 'John' | 'Mary' | 'Bob' | Det N | Det N PP\n",
    "Det -> 'a' | 'an' | 'the' | 'my'\n",
    "N -> 'man' | 'dog' | 'cat' | 'telescope' | 'park'\n",
    "P -> 'in' | 'on' | 'by' | 'with'\n",
    "\"\"\"\n",
    "\n",
    "# Parse the CFG string\n",
    "grammar = CFG.fromstring(cfg_string)\n",
    "\n",
    "# Implement the CKY algorithm\n",
    "def cky_parse(sentence, grammar):\n",
    "    words = sentence.split()\n",
    "    n = len(words)\n",
    "    table = [[set() for _ in range(n+1)] for _ in range(n)]\n",
    "    backpointers = [[{} for _ in range(n+1)] for _ in range(n)]\n",
    "\n",
    "    for j in range(1, n+1):\n",
    "        word = words[j-1]\n",
    "        for prod in grammar.productions(rhs=word):\n",
    "            table[j-1][j].add(prod.lhs())\n",
    "            backpointers[j-1][j][prod.lhs()] = (word,)\n",
    "\n",
    "        for i in range(j-2, -1, -1):\n",
    "            for k in range(i+1, j):\n",
    "                for prod in grammar.productions():\n",
    "                    if len(prod.rhs()) == 2:\n",
    "                        B, C = prod.rhs()\n",
    "                        if B in table[i][k] and C in table[k][j]:\n",
    "                            table[i][j].add(prod.lhs())\n",
    "                            backpointers[i][j][prod.lhs()] = (k, B, C)\n",
    "\n",
    "    return table, backpointers\n",
    "\n",
    "def construct_tree(backpointers, i, j, symbol):\n",
    "    if j - i == 1:\n",
    "        return symbol\n",
    "    k, B, C = backpointers[i][j][symbol]\n",
    "    left_subtree = construct_tree(backpointers, i, k, B)\n",
    "    right_subtree = construct_tree(backpointers, k, j, C)\n",
    "    return Tree(symbol, [left_subtree, right_subtree])\n",
    "\n",
    "# Parse a given sentence and display the dependency tree\n",
    "def parse_sentence(sentence, grammar):\n",
    "    table, backpointers = cky_parse(sentence, grammar)\n",
    "    if grammar.start() in table[0][len(sentence.split())]:\n",
    "        parse_tree = construct_tree(backpointers, 0, len(sentence.split()), grammar.start())\n",
    "        parse_tree.pretty_print()\n",
    "    else:\n",
    "        print(\"No valid parse tree found.\")\n",
    "\n",
    "# Example usage\n",
    "sentence = \"John saw Mary with telescope\"\n",
    "parse_sentence(sentence, grammar)\n"
   ]
  },
  {
   "cell_type": "code",
   "execution_count": null,
   "id": "b3944b89",
   "metadata": {},
   "outputs": [],
   "source": []
  }
 ],
 "metadata": {
  "kernelspec": {
   "display_name": "Python 3 (ipykernel)",
   "language": "python",
   "name": "python3"
  },
  "language_info": {
   "codemirror_mode": {
    "name": "ipython",
    "version": 3
   },
   "file_extension": ".py",
   "mimetype": "text/x-python",
   "name": "python",
   "nbconvert_exporter": "python",
   "pygments_lexer": "ipython3",
   "version": "3.11.4"
  }
 },
 "nbformat": 4,
 "nbformat_minor": 5
}
