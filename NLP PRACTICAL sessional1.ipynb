{
 "cells": [
  {
   "cell_type": "code",
   "execution_count": 1,
   "id": "9505aab0",
   "metadata": {},
   "outputs": [],
   "source": [
    "import nltk\n",
    "from nltk.corpus import movie_reviews\n",
    "from nltk.tokenize import word_tokenize,sent_tokenize\n",
    "from nltk.corpus import stopwords\n",
    "from nltk.stem import PorterStemmer,WordNetLemmatizer"
   ]
  },
  {
   "cell_type": "code",
   "execution_count": 2,
   "id": "9f0ab84e",
   "metadata": {},
   "outputs": [
    {
     "name": "stderr",
     "output_type": "stream",
     "text": [
      "[nltk_data] Downloading package movie_reviews to\n",
      "[nltk_data]     C:\\Users\\22anj\\AppData\\Roaming\\nltk_data...\n",
      "[nltk_data]   Package movie_reviews is already up-to-date!\n"
     ]
    },
    {
     "data": {
      "text/plain": [
       "True"
      ]
     },
     "execution_count": 2,
     "metadata": {},
     "output_type": "execute_result"
    }
   ],
   "source": [
    "nltk.download('movie_reviews')"
   ]
  },
  {
   "cell_type": "code",
   "execution_count": 3,
   "id": "6b63a91c",
   "metadata": {},
   "outputs": [],
   "source": [
    "doc=[]\n",
    "for category in movie_reviews.categories():\n",
    "    for fileid in movie_reviews.fileids(category):\n",
    "        word=list(movie_reviews.words(fileid))\n",
    "        doc.append((word,category))\n",
    "        \n",
    "subset=doc[:2]"
   ]
  },
  {
   "cell_type": "code",
   "execution_count": 4,
   "id": "6da30693",
   "metadata": {},
   "outputs": [],
   "source": [
    "stopword=set(stopwords.words('english'))\n",
    "stem=PorterStemmer()\n",
    "lemma=WordNetLemmatizer()"
   ]
  },
  {
   "cell_type": "code",
   "execution_count": 5,
   "id": "5b018a26",
   "metadata": {},
   "outputs": [],
   "source": [
    "def process(text):\n",
    "    word=word_tokenize(text)\n",
    "    word=[word for word in word if word.lower() not in stopword]\n",
    "    stem_word=[stem.stem(word) for word in word]\n",
    "    lemma_word=[lemma.lemmatize(word) for word in word]\n",
    "    return {'original':word,'stem_word':stem_word,'lemma_word':lemma_word}"
   ]
  },
  {
   "cell_type": "code",
   "execution_count": 6,
   "id": "9eb3fac1",
   "metadata": {},
   "outputs": [
    {
     "name": "stdout",
     "output_type": "stream",
     "text": [
      "category:neg\n",
      "original:['plot', ':', 'twoteencouplesgotoachurchparty', ',']\n",
      "stem_word:['plot', ':', 'twoteencouplesgotoachurchparti', ',']\n",
      "lemma_word:['plot', ':', 'twoteencouplesgotoachurchparty', ',']\n",
      "\n",
      "\n",
      "category:neg\n",
      "original:[\"thehappybastard'squickmoviereviewdamnthaty2kbug.it'sgotaheadstartinthismoviestarringjamieleecurtisandanotherbaldwinbrother\", '(', 'williamthistime', ')']\n",
      "stem_word:[\"thehappybastard'squickmoviereviewdamnthaty2kbug.it'sgotaheadstartinthismoviestarringjamieleecurtisandanotherbaldwinbroth\", '(', 'williamthistim', ')']\n",
      "lemma_word:[\"thehappybastard'squickmoviereviewdamnthaty2kbug.it'sgotaheadstartinthismoviestarringjamieleecurtisandanotherbaldwinbrother\", '(', 'williamthistime', ')']\n",
      "\n",
      "\n"
     ]
    }
   ],
   "source": [
    "for review,category in subset:\n",
    "    text=''.join(review)\n",
    "    preprocess=process(text)\n",
    "    print(f\"category:{category}\")\n",
    "    print(f\"original:{preprocess['original'][:4]}\")\n",
    "    print(f\"stem_word:{preprocess['stem_word'][:4]}\")\n",
    "    print(f\"lemma_word:{preprocess['lemma_word'][:4]}\")\n",
    "    print('\\n')"
   ]
  },
  {
   "cell_type": "code",
   "execution_count": 7,
   "id": "eccc221b",
   "metadata": {},
   "outputs": [
    {
     "name": "stderr",
     "output_type": "stream",
     "text": [
      "[nltk_data] Downloading package treebank to\n",
      "[nltk_data]     C:\\Users\\22anj\\AppData\\Roaming\\nltk_data...\n",
      "[nltk_data]   Unzipping corpora\\treebank.zip.\n",
      "[nltk_data] Downloading package universal_tagset to\n",
      "[nltk_data]     C:\\Users\\22anj\\AppData\\Roaming\\nltk_data...\n",
      "[nltk_data]   Unzipping taggers\\universal_tagset.zip.\n"
     ]
    },
    {
     "data": {
      "text/plain": [
       "True"
      ]
     },
     "execution_count": 7,
     "metadata": {},
     "output_type": "execute_result"
    }
   ],
   "source": [
    "# practical2\n",
    "nltk.download('treebank')\n",
    "nltk.download('universal_tagset')"
   ]
  },
  {
   "cell_type": "code",
   "execution_count": 8,
   "id": "c46198ba",
   "metadata": {},
   "outputs": [],
   "source": [
    "from nltk.corpus import treebank\n",
    "from nltk.tag import BigramTagger,UnigramTagger,TrigramTagger,DefaultTagger\n",
    "from nltk.metrics import accuracy\n"
   ]
  },
  {
   "cell_type": "code",
   "execution_count": 9,
   "id": "68f19ec5",
   "metadata": {},
   "outputs": [],
   "source": [
    "tag_sent=treebank.tagged_sents(tagset='universal')\n",
    "train_size=int(len(tag_sent)*0.6)\n",
    "train_sent=tag_sent[:train_size]\n",
    "test_sent=tag_sent[train_size:]"
   ]
  },
  {
   "cell_type": "code",
   "execution_count": 10,
   "id": "cb63af4a",
   "metadata": {},
   "outputs": [],
   "source": [
    "default_tag=DefaultTagger('noun')\n",
    "unigram_tag=UnigramTagger(train_sent,backoff=default_tag)\n",
    "bigram_tag=BigramTagger(train_sent,backoff=unigram_tag)\n",
    "trigram_tag=TrigramTagger(train_sent,backoff=bigram_tag)\n"
   ]
  },
  {
   "cell_type": "code",
   "execution_count": 13,
   "id": "45358a6a",
   "metadata": {},
   "outputs": [
    {
     "name": "stderr",
     "output_type": "stream",
     "text": [
      "C:\\Users\\22anj\\AppData\\Local\\Temp\\ipykernel_16872\\2787877968.py:1: DeprecationWarning: \n",
      "  Function evaluate() has been deprecated.  Use accuracy(gold)\n",
      "  instead.\n",
      "  accuracy_score=unigram_tag.evaluate(test_sent)\n"
     ]
    },
    {
     "name": "stdout",
     "output_type": "stream",
     "text": [
      "accuracy:0.8598\n"
     ]
    }
   ],
   "source": [
    "accuracy_score=unigram_tag.evaluate(test_sent)\n",
    "print(f'accuracy:{accuracy_score:.4f}')"
   ]
  },
  {
   "cell_type": "code",
   "execution_count": null,
   "id": "e80a903b",
   "metadata": {},
   "outputs": [],
   "source": []
  }
 ],
 "metadata": {
  "kernelspec": {
   "display_name": "Python 3 (ipykernel)",
   "language": "python",
   "name": "python3"
  },
  "language_info": {
   "codemirror_mode": {
    "name": "ipython",
    "version": 3
   },
   "file_extension": ".py",
   "mimetype": "text/x-python",
   "name": "python",
   "nbconvert_exporter": "python",
   "pygments_lexer": "ipython3",
   "version": "3.11.4"
  }
 },
 "nbformat": 4,
 "nbformat_minor": 5
}
