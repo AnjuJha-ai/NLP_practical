{
 "cells": [
  {
   "cell_type": "code",
   "execution_count": 2,
   "id": "2b6479af",
   "metadata": {},
   "outputs": [
    {
     "name": "stdout",
     "output_type": "stream",
     "text": [
      "Collecting rouge\n",
      "  Downloading rouge-1.0.1-py3-none-any.whl.metadata (4.1 kB)\n",
      "Requirement already satisfied: six in c:\\users\\22anj\\anaconda3\\lib\\site-packages (from rouge) (1.16.0)\n",
      "Downloading rouge-1.0.1-py3-none-any.whl (13 kB)\n",
      "Installing collected packages: rouge\n",
      "Successfully installed rouge-1.0.1\n"
     ]
    },
    {
     "name": "stderr",
     "output_type": "stream",
     "text": [
      "\n",
      "[notice] A new release of pip is available: 24.2 -> 24.3.1\n",
      "[notice] To update, run: python.exe -m pip install --upgrade pip\n"
     ]
    }
   ],
   "source": [
    "!pip install rouge"
   ]
  },
  {
   "cell_type": "code",
   "execution_count": 3,
   "id": "0a0f5186",
   "metadata": {},
   "outputs": [],
   "source": [
    "import nltk\n",
    "from nltk.corpus import stopwords\n",
    "from nltk.tokenize import sent_tokenize, word_tokenize\n",
    "import networkx as nx\n",
    "import numpy as np\n",
    "from sklearn.feature_extraction.text import TfidfVectorizer\n",
    "from rouge import Rouge"
   ]
  },
  {
   "cell_type": "code",
   "execution_count": 4,
   "id": "604c438c",
   "metadata": {},
   "outputs": [
    {
     "name": "stdout",
     "output_type": "stream",
     "text": [
      "Generated Summary: Challenges in natural language processing frequently involve speech recognition, natural language understanding, and natural language generation. \n",
      "Natural language processing (NLP) is a subfield of linguistics, computer science, and artificial intelligence concerned with the interactions between computers and human language, in particular how to program computers to process and analyze large amounts of natural language data.\n",
      "ROUGE Scores: [{'rouge-1': {'r': 0.9375, 'p': 0.75, 'f': 0.8333333283950618}, 'rouge-2': {'r': 0.8611111111111112, 'p': 0.62, 'f': 0.7209302276906436}, 'rouge-l': {'r': 0.9375, 'p': 0.75, 'f': 0.8333333283950618}}]\n"
     ]
    },
    {
     "name": "stderr",
     "output_type": "stream",
     "text": [
      "[nltk_data] Downloading package punkt to\n",
      "[nltk_data]     C:\\Users\\22anj\\AppData\\Roaming\\nltk_data...\n",
      "[nltk_data]   Package punkt is already up-to-date!\n",
      "[nltk_data] Downloading package stopwords to\n",
      "[nltk_data]     C:\\Users\\22anj\\AppData\\Roaming\\nltk_data...\n",
      "[nltk_data]   Package stopwords is already up-to-date!\n"
     ]
    }
   ],
   "source": [
    "\n",
    "# resources are downloaded\n",
    "nltk.download('punkt')\n",
    "nltk.download('stopwords')\n",
    "\n",
    "# Sample text\n",
    "text = \"\"\"\n",
    "Natural language processing (NLP) is a subfield of linguistics, computer science, and artificial intelligence concerned with the interactions between computers and human language, in particular how to program computers to process and analyze large amounts of natural language data. Challenges in natural language processing frequently involve speech recognition, natural language understanding, and natural language generation.\n",
    "\"\"\"\n",
    "\n",
    "# Preprocess the text\n",
    "def preprocess_text(text):\n",
    "    sentences = sent_tokenize(text)\n",
    "    stop_words = set(stopwords.words('english'))\n",
    "    \n",
    "    def tokenize_and_remove_stopwords(sentence):\n",
    "        words = word_tokenize(sentence.lower())\n",
    "        return ' '.join([word for word in words if word.isalpha() and word not in stop_words])\n",
    "\n",
    "    preprocessed_sentences = [tokenize_and_remove_stopwords(sentence) for sentence in sentences]\n",
    "    return sentences, preprocessed_sentences\n",
    "\n",
    "# TextRank algorithm with TF-IDF\n",
    "def build_similarity_matrix(sentences, preprocessed_sentences):\n",
    "    vectorizer = TfidfVectorizer()\n",
    "    tfidf_matrix = vectorizer.fit_transform(preprocessed_sentences)\n",
    "    similarity_matrix = cosine_similarity(tfidf_matrix, tfidf_matrix)\n",
    "    return similarity_matrix\n",
    "\n",
    "def textrank_summarizer(text, top_n=2):\n",
    "    sentences, preprocessed_sentences = preprocess_text(text)\n",
    "    similarity_matrix = build_similarity_matrix(sentences, preprocessed_sentences)\n",
    "\n",
    "    similarity_graph = nx.from_numpy_array(similarity_matrix)\n",
    "    scores = nx.pagerank(similarity_graph)\n",
    "\n",
    "    ranked_sentences = sorted(((scores[i], s) for i, s in enumerate(sentences)), reverse=True)\n",
    "    \n",
    "    summary = \" \".join([ranked_sentences[i][1] for i in range(top_n)])\n",
    "    return summary\n",
    "\n",
    "# Evaluate using ROUGE\n",
    "def evaluate_summary(reference_summary, generated_summary):\n",
    "    rouge = Rouge()\n",
    "    scores = rouge.get_scores(generated_summary, reference_summary)\n",
    "    return scores\n",
    "\n",
    "# Example usage\n",
    "reference_summary = \"\"\"\n",
    "Natural language processing (NLP) is a subfield of linguistics, computer science, and artificial intelligence concerned with the interactions between computers and human language. Challenges in NLP frequently involve speech recognition, natural language understanding, and natural language generation.\n",
    "\"\"\"\n",
    "generated_summary = textrank_summarizer(text, top_n=2)\n",
    "\n",
    "print(\"Generated Summary:\", generated_summary)\n",
    "scores = evaluate_summary(reference_summary, generated_summary)\n",
    "print(\"ROUGE Scores:\", scores)\n",
    "\n"
   ]
  },
  {
   "cell_type": "code",
   "execution_count": null,
   "id": "ff7fb894",
   "metadata": {},
   "outputs": [],
   "source": []
  }
 ],
 "metadata": {
  "kernelspec": {
   "display_name": "Python 3 (ipykernel)",
   "language": "python",
   "name": "python3"
  },
  "language_info": {
   "codemirror_mode": {
    "name": "ipython",
    "version": 3
   },
   "file_extension": ".py",
   "mimetype": "text/x-python",
   "name": "python",
   "nbconvert_exporter": "python",
   "pygments_lexer": "ipython3",
   "version": "3.11.4"
  }
 },
 "nbformat": 4,
 "nbformat_minor": 5
}
